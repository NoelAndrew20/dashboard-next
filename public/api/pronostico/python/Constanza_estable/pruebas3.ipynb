{
 "cells": [
  {
   "cell_type": "code",
   "execution_count": 2,
   "metadata": {},
   "outputs": [
    {
     "name": "stderr",
     "output_type": "stream",
     "text": [
      "c:\\Users\\TERMO\\anaconda3\\envs\\Constanza_stable_v1_2\\lib\\site-packages\\tqdm\\auto.py:21: TqdmWarning: IProgress not found. Please update jupyter and ipywidgets. See https://ipywidgets.readthedocs.io/en/stable/user_install.html\n",
      "  from .autonotebook import tqdm as notebook_tqdm\n"
     ]
    },
    {
     "ename": "ImportError",
     "evalue": "cannot import name '__version__' from 'haystack' (c:\\Users\\TERMO\\anaconda3\\envs\\Constanza_stable_v1_2\\lib\\site-packages\\haystack\\__init__.py)",
     "output_type": "error",
     "traceback": [
      "\u001b[1;31m---------------------------------------------------------------------------\u001b[0m",
      "\u001b[1;31mImportError\u001b[0m                               Traceback (most recent call last)",
      "\u001b[1;32mc:\\Users\\TERMO\\Desktop\\Constanza_estable\\pruebas3.ipynb Cell 1\u001b[0m line \u001b[0;36m1\n\u001b[1;32m----> <a href='vscode-notebook-cell:/c%3A/Users/TERMO/Desktop/Constanza_estable/pruebas3.ipynb#W0sZmlsZQ%3D%3D?line=0'>1</a>\u001b[0m \u001b[39mfrom\u001b[39;00m \u001b[39mhaystack\u001b[39;00m\u001b[39m.\u001b[39;00m\u001b[39mdocument_stores\u001b[39;00m \u001b[39mimport\u001b[39;00m InMemoryDocumentStore, ElasticsearchDocumentStore\n\u001b[0;32m      <a href='vscode-notebook-cell:/c%3A/Users/TERMO/Desktop/Constanza_estable/pruebas3.ipynb#W0sZmlsZQ%3D%3D?line=1'>2</a>\u001b[0m \u001b[39mfrom\u001b[39;00m \u001b[39mhaystack\u001b[39;00m\u001b[39m.\u001b[39;00m\u001b[39mnodes\u001b[39;00m \u001b[39mimport\u001b[39;00m EmbeddingRetriever\n\u001b[0;32m      <a href='vscode-notebook-cell:/c%3A/Users/TERMO/Desktop/Constanza_estable/pruebas3.ipynb#W0sZmlsZQ%3D%3D?line=2'>3</a>\u001b[0m \u001b[39mfrom\u001b[39;00m \u001b[39mhaystack\u001b[39;00m\u001b[39m.\u001b[39;00m\u001b[39mpipelines\u001b[39;00m \u001b[39mimport\u001b[39;00m FAQPipeline\n",
      "File \u001b[1;32mc:\\Users\\TERMO\\anaconda3\\envs\\Constanza_stable_v1_2\\lib\\site-packages\\haystack\\document_stores\\__init__.py:1\u001b[0m\n\u001b[1;32m----> 1\u001b[0m \u001b[39mfrom\u001b[39;00m \u001b[39mhaystack\u001b[39;00m\u001b[39m.\u001b[39;00m\u001b[39mdocument_stores\u001b[39;00m\u001b[39m.\u001b[39;00m\u001b[39mbase\u001b[39;00m \u001b[39mimport\u001b[39;00m BaseDocumentStore, KeywordDocumentStore\n\u001b[0;32m      3\u001b[0m \u001b[39mfrom\u001b[39;00m \u001b[39mhaystack\u001b[39;00m\u001b[39m.\u001b[39;00m\u001b[39mdocument_stores\u001b[39;00m\u001b[39m.\u001b[39;00m\u001b[39mmemory\u001b[39;00m \u001b[39mimport\u001b[39;00m InMemoryDocumentStore\n\u001b[0;32m      4\u001b[0m \u001b[39mfrom\u001b[39;00m \u001b[39mhaystack\u001b[39;00m\u001b[39m.\u001b[39;00m\u001b[39mdocument_stores\u001b[39;00m\u001b[39m.\u001b[39;00m\u001b[39mdeepsetcloud\u001b[39;00m \u001b[39mimport\u001b[39;00m DeepsetCloudDocumentStore\n",
      "File \u001b[1;32mc:\\Users\\TERMO\\anaconda3\\envs\\Constanza_stable_v1_2\\lib\\site-packages\\haystack\\document_stores\\base.py:13\u001b[0m\n\u001b[0;32m     10\u001b[0m \u001b[39mimport\u001b[39;00m \u001b[39mnumpy\u001b[39;00m \u001b[39mas\u001b[39;00m \u001b[39mnp\u001b[39;00m\n\u001b[0;32m     12\u001b[0m \u001b[39mfrom\u001b[39;00m \u001b[39mhaystack\u001b[39;00m\u001b[39m.\u001b[39;00m\u001b[39mschema\u001b[39;00m \u001b[39mimport\u001b[39;00m Document, FilterType, Label, MultiLabel\n\u001b[1;32m---> 13\u001b[0m \u001b[39mfrom\u001b[39;00m \u001b[39mhaystack\u001b[39;00m\u001b[39m.\u001b[39;00m\u001b[39mnodes\u001b[39;00m\u001b[39m.\u001b[39;00m\u001b[39mbase\u001b[39;00m \u001b[39mimport\u001b[39;00m BaseComponent\n\u001b[0;32m     14\u001b[0m \u001b[39mfrom\u001b[39;00m \u001b[39mhaystack\u001b[39;00m\u001b[39m.\u001b[39;00m\u001b[39merrors\u001b[39;00m \u001b[39mimport\u001b[39;00m DuplicateDocumentError, DocumentStoreError, HaystackError\n\u001b[0;32m     15\u001b[0m \u001b[39mfrom\u001b[39;00m \u001b[39mhaystack\u001b[39;00m\u001b[39m.\u001b[39;00m\u001b[39mnodes\u001b[39;00m\u001b[39m.\u001b[39;00m\u001b[39mpreprocessor\u001b[39;00m \u001b[39mimport\u001b[39;00m PreProcessor\n",
      "File \u001b[1;32mc:\\Users\\TERMO\\anaconda3\\envs\\Constanza_stable_v1_2\\lib\\site-packages\\haystack\\nodes\\__init__.py:1\u001b[0m\n\u001b[1;32m----> 1\u001b[0m \u001b[39mfrom\u001b[39;00m \u001b[39mhaystack\u001b[39;00m\u001b[39m.\u001b[39;00m\u001b[39mnodes\u001b[39;00m\u001b[39m.\u001b[39;00m\u001b[39mbase\u001b[39;00m \u001b[39mimport\u001b[39;00m BaseComponent\n\u001b[0;32m      3\u001b[0m \u001b[39mfrom\u001b[39;00m \u001b[39mhaystack\u001b[39;00m\u001b[39m.\u001b[39;00m\u001b[39mnodes\u001b[39;00m\u001b[39m.\u001b[39;00m\u001b[39manswer_generator\u001b[39;00m \u001b[39mimport\u001b[39;00m BaseGenerator, OpenAIAnswerGenerator\n\u001b[0;32m      4\u001b[0m \u001b[39mfrom\u001b[39;00m \u001b[39mhaystack\u001b[39;00m\u001b[39m.\u001b[39;00m\u001b[39mnodes\u001b[39;00m\u001b[39m.\u001b[39;00m\u001b[39mdocument_classifier\u001b[39;00m \u001b[39mimport\u001b[39;00m BaseDocumentClassifier, TransformersDocumentClassifier\n",
      "File \u001b[1;32mc:\\Users\\TERMO\\anaconda3\\envs\\Constanza_stable_v1_2\\lib\\site-packages\\haystack\\nodes\\base.py:12\u001b[0m\n\u001b[0;32m     10\u001b[0m \u001b[39mfrom\u001b[39;00m \u001b[39mhaystack\u001b[39;00m\u001b[39m.\u001b[39;00m\u001b[39mschema\u001b[39;00m \u001b[39mimport\u001b[39;00m Document, MultiLabel\n\u001b[0;32m     11\u001b[0m \u001b[39mfrom\u001b[39;00m \u001b[39mhaystack\u001b[39;00m\u001b[39m.\u001b[39;00m\u001b[39merrors\u001b[39;00m \u001b[39mimport\u001b[39;00m PipelineSchemaError\n\u001b[1;32m---> 12\u001b[0m \u001b[39mfrom\u001b[39;00m \u001b[39mhaystack\u001b[39;00m\u001b[39m.\u001b[39;00m\u001b[39mutils\u001b[39;00m\u001b[39m.\u001b[39;00m\u001b[39mreflection\u001b[39;00m \u001b[39mimport\u001b[39;00m args_to_kwargs\n\u001b[0;32m     15\u001b[0m logger \u001b[39m=\u001b[39m logging\u001b[39m.\u001b[39mgetLogger(\u001b[39m__name__\u001b[39m)\n\u001b[0;32m     18\u001b[0m \u001b[39mdef\u001b[39;00m \u001b[39mexportable_to_yaml\u001b[39m(init_func):\n",
      "File \u001b[1;32mc:\\Users\\TERMO\\anaconda3\\envs\\Constanza_stable_v1_2\\lib\\site-packages\\haystack\\utils\\__init__.py:17\u001b[0m\n\u001b[0;32m     15\u001b[0m \u001b[39mfrom\u001b[39;00m \u001b[39mhaystack\u001b[39;00m\u001b[39m.\u001b[39;00m\u001b[39mutils\u001b[39;00m\u001b[39m.\u001b[39;00m\u001b[39msquad_data\u001b[39;00m \u001b[39mimport\u001b[39;00m SquadData\n\u001b[0;32m     16\u001b[0m \u001b[39mfrom\u001b[39;00m \u001b[39mhaystack\u001b[39;00m\u001b[39m.\u001b[39;00m\u001b[39mutils\u001b[39;00m\u001b[39m.\u001b[39;00m\u001b[39mcontext_matching\u001b[39;00m \u001b[39mimport\u001b[39;00m calculate_context_similarity, match_context, match_contexts\n\u001b[1;32m---> 17\u001b[0m \u001b[39mfrom\u001b[39;00m \u001b[39mhaystack\u001b[39;00m\u001b[39m.\u001b[39;00m\u001b[39mutils\u001b[39;00m\u001b[39m.\u001b[39;00m\u001b[39mexperiment_tracking\u001b[39;00m \u001b[39mimport\u001b[39;00m (\n\u001b[0;32m     18\u001b[0m     Tracker,\n\u001b[0;32m     19\u001b[0m     NoTrackingHead,\n\u001b[0;32m     20\u001b[0m     BaseTrackingHead,\n\u001b[0;32m     21\u001b[0m     MLflowTrackingHead,\n\u001b[0;32m     22\u001b[0m     StdoutTrackingHead,\n\u001b[0;32m     23\u001b[0m )\n\u001b[0;32m     24\u001b[0m \u001b[39mfrom\u001b[39;00m \u001b[39mhaystack\u001b[39;00m\u001b[39m.\u001b[39;00m\u001b[39mutils\u001b[39;00m\u001b[39m.\u001b[39;00m\u001b[39mearly_stopping\u001b[39;00m \u001b[39mimport\u001b[39;00m EarlyStopping\n\u001b[0;32m     25\u001b[0m \u001b[39mfrom\u001b[39;00m \u001b[39mhaystack\u001b[39;00m\u001b[39m.\u001b[39;00m\u001b[39mutils\u001b[39;00m\u001b[39m.\u001b[39;00m\u001b[39mlabels\u001b[39;00m \u001b[39mimport\u001b[39;00m aggregate_labels\n",
      "File \u001b[1;32mc:\\Users\\TERMO\\anaconda3\\envs\\Constanza_stable_v1_2\\lib\\site-packages\\haystack\\utils\\experiment_tracking.py:12\u001b[0m\n\u001b[0;32m      8\u001b[0m \u001b[39mimport\u001b[39;00m \u001b[39msys\u001b[39;00m\n\u001b[0;32m     10\u001b[0m \u001b[39mfrom\u001b[39;00m \u001b[39mrequests\u001b[39;00m\u001b[39m.\u001b[39;00m\u001b[39mexceptions\u001b[39;00m \u001b[39mimport\u001b[39;00m \u001b[39mConnectionError\u001b[39;00m\n\u001b[1;32m---> 12\u001b[0m \u001b[39mfrom\u001b[39;00m \u001b[39mhaystack\u001b[39;00m \u001b[39mimport\u001b[39;00m __version__\n\u001b[0;32m     13\u001b[0m \u001b[39mfrom\u001b[39;00m \u001b[39mhaystack\u001b[39;00m\u001b[39m.\u001b[39;00m\u001b[39mlazy_imports\u001b[39;00m \u001b[39mimport\u001b[39;00m LazyImport\n\u001b[0;32m     15\u001b[0m \u001b[39mwith\u001b[39;00m LazyImport(\u001b[39m\"\u001b[39m\u001b[39mRun \u001b[39m\u001b[39m'\u001b[39m\u001b[39mpip install transformers[torch]\u001b[39m\u001b[39m'\u001b[39m\u001b[39m\"\u001b[39m) \u001b[39mas\u001b[39;00m transformers_import:\n",
      "\u001b[1;31mImportError\u001b[0m: cannot import name '__version__' from 'haystack' (c:\\Users\\TERMO\\anaconda3\\envs\\Constanza_stable_v1_2\\lib\\site-packages\\haystack\\__init__.py)"
     ]
    }
   ],
   "source": [
    "from haystack.document_stores import InMemoryDocumentStore, ElasticsearchDocumentStore\n",
    "from haystack.nodes import EmbeddingRetriever\n",
    "from haystack.pipelines import FAQPipeline"
   ]
  }
 ],
 "metadata": {
  "kernelspec": {
   "display_name": "Constanza_stable_v1_2",
   "language": "python",
   "name": "python3"
  },
  "language_info": {
   "codemirror_mode": {
    "name": "ipython",
    "version": 3
   },
   "file_extension": ".py",
   "mimetype": "text/x-python",
   "name": "python",
   "nbconvert_exporter": "python",
   "pygments_lexer": "ipython3",
   "version": "3.10.11"
  },
  "orig_nbformat": 4
 },
 "nbformat": 4,
 "nbformat_minor": 2
}
