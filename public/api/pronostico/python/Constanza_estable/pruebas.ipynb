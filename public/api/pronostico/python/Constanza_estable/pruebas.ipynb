{
 "cells": [
  {
   "cell_type": "code",
   "execution_count": 11,
   "metadata": {},
   "outputs": [],
   "source": [
    "def hola_mundo(name:str, edad: int):\n",
    "    print('hola ', name,', tienes ', edad, 'anios')"
   ]
  },
  {
   "cell_type": "code",
   "execution_count": 8,
   "metadata": {},
   "outputs": [
    {
     "name": "stdout",
     "output_type": "stream",
     "text": [
      "('name', 'edad')\n"
     ]
    }
   ],
   "source": [
    "duda = hola_mundo.__code__.co_varnames\n",
    "type(duda)\n",
    "\n",
    "print(duda)"
   ]
  },
  {
   "cell_type": "code",
   "execution_count": 12,
   "metadata": {},
   "outputs": [
    {
     "name": "stdout",
     "output_type": "stream",
     "text": [
      "hola  Pedro , tienes  8 anios\n"
     ]
    }
   ],
   "source": [
    "args = ['Pedro', 8]\n",
    "hola_mundo(*args)"
   ]
  }
 ],
 "metadata": {
  "kernelspec": {
   "display_name": "C_stable_v1_2",
   "language": "python",
   "name": "python3"
  },
  "language_info": {
   "codemirror_mode": {
    "name": "ipython",
    "version": 3
   },
   "file_extension": ".py",
   "mimetype": "text/x-python",
   "name": "python",
   "nbconvert_exporter": "python",
   "pygments_lexer": "ipython3",
   "version": "3.9.12"
  },
  "orig_nbformat": 4
 },
 "nbformat": 4,
 "nbformat_minor": 2
}
